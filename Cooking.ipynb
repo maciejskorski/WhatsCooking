{
 "cells": [
  {
   "cell_type": "markdown",
   "metadata": {
    "collapsed": true
   },
   "source": [
    "# What's cooking? Text classification in Tensor Flow\n",
    "\n",
    "The task is to guess the cuisine based on cooking receipts.\n",
    "\n",
    "Data files are provided on Kaggle https://www.kaggle.com/c/whats-cooking\n",
    "\n",
    "The solution is based on the library *scikit-learn* with the *TensorFlow* backend.\n",
    "The code shows how to train a logistic classifier by *stochastic gradient descent* on the bag-of-words model, how to record and visualize training statistcs and computation grahps and how to handle imbalanced data by assigning class weights to the scoring metric."
   ]
  },
  {
   "cell_type": "code",
   "execution_count": 1,
   "metadata": {
    "collapsed": true
   },
   "outputs": [],
   "source": [
    "import tensorflow as tf\n",
    "import pandas as pnd\n",
    "import numpy as np\n",
    "import re\n",
    "import nltk\n",
    "import math\n",
    "from sklearn.feature_extraction.text import CountVectorizer, TfidfTransformer, TfidfVectorizer\n",
    "from sklearn.model_selection import train_test_split\n",
    "from sklearn import metrics\n",
    "from matplotlib import pyplot as plt"
   ]
  },
  {
   "cell_type": "markdown",
   "metadata": {},
   "source": [
    "## Data extraction"
   ]
  },
  {
   "cell_type": "code",
   "execution_count": 2,
   "metadata": {},
   "outputs": [
    {
     "data": {
      "text/html": [
       "<div>\n",
       "<style>\n",
       "    .dataframe thead tr:only-child th {\n",
       "        text-align: right;\n",
       "    }\n",
       "\n",
       "    .dataframe thead th {\n",
       "        text-align: left;\n",
       "    }\n",
       "\n",
       "    .dataframe tbody tr th {\n",
       "        vertical-align: top;\n",
       "    }\n",
       "</style>\n",
       "<table border=\"1\" class=\"dataframe\">\n",
       "  <thead>\n",
       "    <tr style=\"text-align: right;\">\n",
       "      <th></th>\n",
       "      <th>cuisine</th>\n",
       "      <th>id</th>\n",
       "      <th>ingredients</th>\n",
       "    </tr>\n",
       "  </thead>\n",
       "  <tbody>\n",
       "    <tr>\n",
       "      <th>0</th>\n",
       "      <td>greek</td>\n",
       "      <td>10259</td>\n",
       "      <td>[romaine lettuce, black olives, grape tomatoes...</td>\n",
       "    </tr>\n",
       "    <tr>\n",
       "      <th>1</th>\n",
       "      <td>southern_us</td>\n",
       "      <td>25693</td>\n",
       "      <td>[plain flour, ground pepper, salt, tomatoes, g...</td>\n",
       "    </tr>\n",
       "    <tr>\n",
       "      <th>2</th>\n",
       "      <td>filipino</td>\n",
       "      <td>20130</td>\n",
       "      <td>[eggs, pepper, salt, mayonaise, cooking oil, g...</td>\n",
       "    </tr>\n",
       "    <tr>\n",
       "      <th>3</th>\n",
       "      <td>indian</td>\n",
       "      <td>22213</td>\n",
       "      <td>[water, vegetable oil, wheat, salt]</td>\n",
       "    </tr>\n",
       "    <tr>\n",
       "      <th>4</th>\n",
       "      <td>indian</td>\n",
       "      <td>13162</td>\n",
       "      <td>[black pepper, shallots, cornflour, cayenne pe...</td>\n",
       "    </tr>\n",
       "    <tr>\n",
       "      <th>5</th>\n",
       "      <td>jamaican</td>\n",
       "      <td>6602</td>\n",
       "      <td>[plain flour, sugar, butter, eggs, fresh ginge...</td>\n",
       "    </tr>\n",
       "    <tr>\n",
       "      <th>6</th>\n",
       "      <td>spanish</td>\n",
       "      <td>42779</td>\n",
       "      <td>[olive oil, salt, medium shrimp, pepper, garli...</td>\n",
       "    </tr>\n",
       "    <tr>\n",
       "      <th>7</th>\n",
       "      <td>italian</td>\n",
       "      <td>3735</td>\n",
       "      <td>[sugar, pistachio nuts, white almond bark, flo...</td>\n",
       "    </tr>\n",
       "    <tr>\n",
       "      <th>8</th>\n",
       "      <td>mexican</td>\n",
       "      <td>16903</td>\n",
       "      <td>[olive oil, purple onion, fresh pineapple, por...</td>\n",
       "    </tr>\n",
       "    <tr>\n",
       "      <th>9</th>\n",
       "      <td>italian</td>\n",
       "      <td>12734</td>\n",
       "      <td>[chopped tomatoes, fresh basil, garlic, extra-...</td>\n",
       "    </tr>\n",
       "  </tbody>\n",
       "</table>\n",
       "</div>"
      ],
      "text/plain": [
       "       cuisine     id                                        ingredients\n",
       "0        greek  10259  [romaine lettuce, black olives, grape tomatoes...\n",
       "1  southern_us  25693  [plain flour, ground pepper, salt, tomatoes, g...\n",
       "2     filipino  20130  [eggs, pepper, salt, mayonaise, cooking oil, g...\n",
       "3       indian  22213                [water, vegetable oil, wheat, salt]\n",
       "4       indian  13162  [black pepper, shallots, cornflour, cayenne pe...\n",
       "5     jamaican   6602  [plain flour, sugar, butter, eggs, fresh ginge...\n",
       "6      spanish  42779  [olive oil, salt, medium shrimp, pepper, garli...\n",
       "7      italian   3735  [sugar, pistachio nuts, white almond bark, flo...\n",
       "8      mexican  16903  [olive oil, purple onion, fresh pineapple, por...\n",
       "9      italian  12734  [chopped tomatoes, fresh basil, garlic, extra-..."
      ]
     },
     "execution_count": 2,
     "metadata": {},
     "output_type": "execute_result"
    }
   ],
   "source": [
    "# path to data files\n",
    "train_data_path = 'train.json'\n",
    "\n",
    "data = pnd.read_json(train_data_path)\n",
    "\n",
    "# have a look\n",
    "data[:10]"
   ]
  },
  {
   "cell_type": "code",
   "execution_count": 3,
   "metadata": {
    "collapsed": true
   },
   "outputs": [],
   "source": [
    "y = data['cuisine']\n",
    "X = data.drop(['id','cuisine'],axis=1)"
   ]
  },
  {
   "cell_type": "code",
   "execution_count": 4,
   "metadata": {},
   "outputs": [
    {
     "data": {
      "text/html": [
       "<div>\n",
       "<style>\n",
       "    .dataframe thead tr:only-child th {\n",
       "        text-align: right;\n",
       "    }\n",
       "\n",
       "    .dataframe thead th {\n",
       "        text-align: left;\n",
       "    }\n",
       "\n",
       "    .dataframe tbody tr th {\n",
       "        vertical-align: top;\n",
       "    }\n",
       "</style>\n",
       "<table border=\"1\" class=\"dataframe\">\n",
       "  <thead>\n",
       "    <tr style=\"text-align: right;\">\n",
       "      <th></th>\n",
       "      <th>ingredients</th>\n",
       "    </tr>\n",
       "  </thead>\n",
       "  <tbody>\n",
       "    <tr>\n",
       "      <th>0</th>\n",
       "      <td>romaine lettuce,black olives,grape tomatoes,ga...</td>\n",
       "    </tr>\n",
       "    <tr>\n",
       "      <th>1</th>\n",
       "      <td>plain flour,ground pepper,salt,tomatoes,ground...</td>\n",
       "    </tr>\n",
       "    <tr>\n",
       "      <th>2</th>\n",
       "      <td>eggs,pepper,salt,mayonaise,cooking oil,green c...</td>\n",
       "    </tr>\n",
       "    <tr>\n",
       "      <th>3</th>\n",
       "      <td>water,vegetable oil,wheat,salt</td>\n",
       "    </tr>\n",
       "    <tr>\n",
       "      <th>4</th>\n",
       "      <td>black pepper,shallots,cornflour,cayenne pepper...</td>\n",
       "    </tr>\n",
       "    <tr>\n",
       "      <th>5</th>\n",
       "      <td>plain flour,sugar,butter,eggs,fresh ginger roo...</td>\n",
       "    </tr>\n",
       "    <tr>\n",
       "      <th>6</th>\n",
       "      <td>olive oil,salt,medium shrimp,pepper,garlic,cho...</td>\n",
       "    </tr>\n",
       "    <tr>\n",
       "      <th>7</th>\n",
       "      <td>sugar,pistachio nuts,white almond bark,flour,v...</td>\n",
       "    </tr>\n",
       "    <tr>\n",
       "      <th>8</th>\n",
       "      <td>olive oil,purple onion,fresh pineapple,pork,po...</td>\n",
       "    </tr>\n",
       "    <tr>\n",
       "      <th>9</th>\n",
       "      <td>chopped tomatoes,fresh basil,garlic,extra-virg...</td>\n",
       "    </tr>\n",
       "  </tbody>\n",
       "</table>\n",
       "</div>"
      ],
      "text/plain": [
       "                                         ingredients\n",
       "0  romaine lettuce,black olives,grape tomatoes,ga...\n",
       "1  plain flour,ground pepper,salt,tomatoes,ground...\n",
       "2  eggs,pepper,salt,mayonaise,cooking oil,green c...\n",
       "3                     water,vegetable oil,wheat,salt\n",
       "4  black pepper,shallots,cornflour,cayenne pepper...\n",
       "5  plain flour,sugar,butter,eggs,fresh ginger roo...\n",
       "6  olive oil,salt,medium shrimp,pepper,garlic,cho...\n",
       "7  sugar,pistachio nuts,white almond bark,flour,v...\n",
       "8  olive oil,purple onion,fresh pineapple,pork,po...\n",
       "9  chopped tomatoes,fresh basil,garlic,extra-virg..."
      ]
     },
     "execution_count": 4,
     "metadata": {},
     "output_type": "execute_result"
    }
   ],
   "source": [
    "def preprocess(X):\n",
    "    X['ingredients'] = X['ingredients'].apply(lambda t: ','.join(t))\n",
    "    X['ingredients'] = X['ingredients'].astype(str)\n",
    "    return X\n",
    "\n",
    "X = preprocess(X)\n",
    "X[0:10]"
   ]
  },
  {
   "cell_type": "markdown",
   "metadata": {},
   "source": [
    "## Building the bag-of-words model"
   ]
  },
  {
   "cell_type": "code",
   "execution_count": 5,
   "metadata": {},
   "outputs": [
    {
     "name": "stdout",
     "output_type": "stream",
     "text": [
      "['romaine lettuc', 'black ol', 'grape tomato', 'garlic', 'pepper', 'purple onion', 'season', 'garbanzo bean', 'feta cheese crumbl']\n"
     ]
    }
   ],
   "source": [
    "# build a tokenizer\n",
    "\n",
    "pattern = r'[^,]+'\n",
    "pattern = re.compile(pattern)\n",
    "stemmer = nltk.stem.PorterStemmer()\n",
    "def tokenize(text):\n",
    "    tokens = pattern.findall(text)\n",
    "    return [stemmer.stem(i) for i in tokens]\n",
    "\n",
    "print( tokenize(str( X.loc[0].ingredients )) )"
   ]
  },
  {
   "cell_type": "code",
   "execution_count": 6,
   "metadata": {},
   "outputs": [
    {
     "name": "stdout",
     "output_type": "stream",
     "text": [
      "Vocabulary is of size 4159\n"
     ]
    }
   ],
   "source": [
    "# build the dictionary\n",
    "\n",
    "#counts = TfidfVectorizer(min_df=3,tokenizer=tokenize, norm=None, use_idf=False).fit(X['ingredients'])\n",
    "counts = CountVectorizer(min_df=3,tokenizer=tokenize).fit(X['ingredients'])\n",
    "voc_size = len(counts.vocabulary_)\n",
    "print('Vocabulary is of size {0}'.format(voc_size))"
   ]
  },
  {
   "cell_type": "code",
   "execution_count": 7,
   "metadata": {
    "collapsed": true
   },
   "outputs": [],
   "source": [
    "# do a train-test split\n",
    "\n",
    "X_train0, X_test0, y_train0, y_test0 = train_test_split(X,y,train_size=0.7,test_size=0.3,random_state=11)"
   ]
  },
  {
   "cell_type": "code",
   "execution_count": 8,
   "metadata": {
    "collapsed": true
   },
   "outputs": [],
   "source": [
    "# build the document-term matrix\n",
    "\n",
    "X_train_f = counts.transform(X_train0['ingredients'])\n",
    "X_test_f = counts.transform(X_test0['ingredients'])"
   ]
  },
  {
   "cell_type": "code",
   "execution_count": 9,
   "metadata": {
    "collapsed": true
   },
   "outputs": [],
   "source": [
    "# encode targets\n",
    "\n",
    "class_name = y_train0.unique()\n",
    "\n",
    "y_train = y_train0.apply(lambda t: (class_name==t).argmax())\n",
    "y_test = y_test0.apply(lambda t: (class_name==t).argmax())"
   ]
  },
  {
   "cell_type": "markdown",
   "metadata": {},
   "source": [
    "## Building a model in TensforFlow"
   ]
  },
  {
   "cell_type": "code",
   "execution_count": 46,
   "metadata": {},
   "outputs": [],
   "source": [
    "# lunch the session and reset recording\n",
    "tf.reset_default_graph()\n",
    "sess = tf.InteractiveSession()"
   ]
  },
  {
   "cell_type": "code",
   "execution_count": 47,
   "metadata": {},
   "outputs": [],
   "source": [
    "# build the TensorFlow model\n",
    "\n",
    "n_classes = y.unique().shape[0]\n",
    "n_features = voc_size\n",
    "\n",
    "# use uniform class weights for now\n",
    "with tf.name_scope('class_weights'):\n",
    "    tmp = np.ones( n_classes )\n",
    "    w_class = tf.Variable(tmp.reshape(-1,1),dtype=np.float32,name='class_weights',trainable=False) \n",
    "\n",
    "# define the learning rate decay\n",
    "with tf.name_scope('learning_rate'):\n",
    "    global_step=tf.Variable(0, trainable=False)\n",
    "    r_learn = tf.Variable(0.5, trainable=False)\n",
    "    rate = tf.train.natural_exp_decay(r_learn, global_step, 100 ,0.001)\n",
    "\n",
    "# data and target placeholders (the first dimension understood as the batch size, left empty!)\n",
    "with tf.name_scope('input_data'):\n",
    "    X1 = tf.placeholder(shape=[None,n_features], dtype=np.float32,name='x_data') # dim = [batch_size,n_features]\n",
    "    y1 = tf.placeholder(shape=[None], dtype=tf.int32, name='y_data')  # dim = [batch_size]\n",
    "\n",
    "# model coefficients\n",
    "with tf.name_scope('model_coeff'):\n",
    "    w = tf.Variable(tf.ones([n_features,n_classes]), name='weights')\n",
    "    b = tf.Variable(tf.zeros([1,n_classes]), name='bias')\n",
    "\n",
    "# model predictions and loss\n",
    "with tf.name_scope('accuracy'):\n",
    "    logits = tf.matmul(X1,w) + b # dim = [batch_size,n_classes]\n",
    "    labels = tf.one_hot(y1,n_classes) # dim = [batch_size,n_classes]\n",
    "    weights = tf.reduce_sum( tf.matmul(labels, w_class), 1 ) # dim = [batch_size]\n",
    "    entropy = tf.losses.softmax_cross_entropy(logits = logits, onehot_labels = labels, weights = weights)\n",
    "    loss = tf.reduce_mean(entropy)\n",
    "\n",
    "# optimizer\n",
    "with tf.name_scope('train'):\n",
    "    optimizer = tf.train.GradientDescentOptimizer(learning_rate = rate).minimize(loss, global_step=global_step)\n",
    "\n",
    "# initialize\n",
    "sess.run(tf.global_variables_initializer())\n",
    "\n",
    "# start recording\n",
    "summary_writer = tf.summary.FileWriter('./logs', sess.graph)"
   ]
  },
  {
   "cell_type": "code",
   "execution_count": 48,
   "metadata": {},
   "outputs": [],
   "source": [
    "# model testing \n",
    "\n",
    "def preds(mini_batch_size=1000):\n",
    "    # note: this keeps the memory usage low, by unziping the sparse feature matrix in batches\n",
    "    total_score = 0\n",
    "    n_samples = X_test_f.shape[0]\n",
    "    n_batch = math.ceil( n_samples / mini_batch_size )\n",
    "    preds = []\n",
    "    for i in range(n_batch): \n",
    "        i_batch = i*mini_batch_size\n",
    "        X_b = X_test_f[ i*mini_batch_size:min( (i+1)*mini_batch_size,n_samples) ]\n",
    "        y_b = y_test[ i*mini_batch_size:min( (i+1)*mini_batch_size,n_samples ) ]\n",
    "        with tf.name_scope('predictions'):\n",
    "            _, logits_batch = sess.run([loss, logits], feed_dict={X1:X_b.todense(),y1:y_b})\n",
    "            odds = tf.nn.softmax(logits_batch)\n",
    "            heaviest = sess.run(tf.argmax( odds, 1))\n",
    "        preds.append(heaviest)\n",
    "    return preds\n",
    "\n",
    "def f1_score():\n",
    "    y_pred = np.concatenate( preds() )\n",
    "    return metrics.f1_score(y_test,y_pred,average='macro')\n",
    "    "
   ]
  },
  {
   "cell_type": "code",
   "execution_count": 49,
   "metadata": {},
   "outputs": [],
   "source": [
    "# model training and evaluation\n",
    "\n",
    "test_accuracy = tf.Variable(0,dtype=tf.float32,trainable=False)\n",
    "\n",
    "train_summ = tf.summary.scalar('train_loss', loss)\n",
    "test_summ = tf.summary.scalar('test_accuracy', test_accuracy)\n",
    "\n",
    "def train(mini_batch_size=100,rate=1,n_epochs=25, record=True):\n",
    "    # note: this keeps the memory usage low, by unziping the sparse feature matrix in batches\n",
    "    n_samples = X_train_f.shape[0]\n",
    "    n_batch = int( n_samples / mini_batch_size )\n",
    "    loss_history = np.empty(shape=[1],dtype=np.float32)\n",
    "    # set the learning rate\n",
    "    sess.run(r_learn.assign(rate))\n",
    "    # start learning\n",
    "    for _ in range(n_epochs):\n",
    "        # do a full pass over data\n",
    "        for i in range(n_batch): \n",
    "            i_batch = i*mini_batch_size\n",
    "            X_b = X_train_f[ i*mini_batch_size:(i+1)*mini_batch_size ]\n",
    "            y_b = y_train[ i*mini_batch_size:(i+1)*mini_batch_size ]\n",
    "            summary,_, train_loss = sess.run([train_summ,optimizer,loss],feed_dict={X1:X_b.todense(),y1:y_b})\n",
    "        loss_history = np.append(loss_history, train_loss )\n",
    "        # record training score\n",
    "        if record:\n",
    "            summary_writer.add_summary(summary, global_step.eval())\n",
    "        # compute and record testing score\n",
    "        y_pred = np.concatenate( preds() )\n",
    "        sess.run(test_accuracy.assign(f1_score()))\n",
    "        summary = sess.run(test_summ)\n",
    "        if record:\n",
    "            summary_writer.add_summary(summary, global_step.eval())\n",
    "    return loss_history\n",
    "        \n",
    "# plot the training curve\n",
    "\n",
    "def plot_training(n_epochs=25):\n",
    "    plt.plot(loss_history)\n",
    "    plt.xlim([1,n_epochs])\n",
    "    plt.xlabel('# epochs')\n",
    "    plt.ylabel('train loss')\n",
    "    plt.show()"
   ]
  },
  {
   "cell_type": "markdown",
   "metadata": {},
   "source": [
    "## Evaluation\n",
    "\n",
    "Since the classes are imbalanced, the more relevant score than accuracy is f1 score agregated on the class level (*macro*). This gives the estimate of how the model performs accorss the classes. \n",
    "\n",
    "Note that recording stats in real time affects the performance of the evaluation."
   ]
  },
  {
   "cell_type": "code",
   "execution_count": 50,
   "metadata": {},
   "outputs": [
    {
     "name": "stdout",
     "output_type": "stream",
     "text": [
      "Evaluating model...\n",
      "F1-score (micro-averaged)=0.7732338892147825\n",
      "F1-score (macro-averaged)=0.6916574884142961\n"
     ]
    }
   ],
   "source": [
    "# train, evaulate and record\n",
    "\n",
    "# disable warnings for undefined f1-score - will be replaced by 0\n",
    "import warnings\n",
    "warnings.filterwarnings(\"ignore\", category= sklearn.exceptions.UndefinedMetricWarning)\n",
    "\n",
    "print('Evaluating model...')\n",
    "loss_history = train(rate=0.7,n_epochs=100)\n",
    "#plot_training(n_epochs=100)\n",
    "y_pred = np.concatenate( preds() )\n",
    "print('F1-score (micro-averaged)={0}'.format( metrics.f1_score(y_test,y_pred,average='micro')))\n",
    "print('F1-score (macro-averaged)={0}'.format( f1_score()))"
   ]
  },
  {
   "cell_type": "markdown",
   "metadata": {},
   "source": [
    "We can download and plot the recored training and testing statistics using the Tensorboard tool (in Tensorboard, they are interactive though)"
   ]
  },
  {
   "cell_type": "code",
   "execution_count": 51,
   "metadata": {},
   "outputs": [
    {
     "data": {
      "image/png": "[encoded data removed]",
      "text/plain": [
       "<matplotlib.figure.Figure at 0x7f279c703cc0>"
      ]
     },
     "metadata": {},
     "output_type": "display_data"
    }
   ],
   "source": [
    "import os\n",
    "\n",
    "fig = plt.figure(figsize=[20,5])\n",
    "\n",
    "ax = fig.add_subplot(121)\n",
    "ax.set_xlabel('n_steps')\n",
    "ax.set_ylabel('test f1-score (macro)')\n",
    "tmp = pnd.read_csv('/home/mskorski/Downloads/run_.-tag-test_accuracy.csv',header=0)\n",
    "ax.plot(tmp['Step'],tmp['Value'],'red')\n",
    "\n",
    "ax = fig.add_subplot(122)\n",
    "ax.set_xlabel('n_steps')\n",
    "ax.set_ylabel('test f1-score (macro)')\n",
    "tmp = pnd.read_csv('/home/mskorski/Downloads/run_.-tag-train_loss.csv',header=0)\n",
    "ax.plot(tmp['Step'],tmp['Value'])\n",
    "\n",
    "plt.title('Tensorboard stats')\n",
    "plt.show()"
   ]
  },
  {
   "cell_type": "code",
   "execution_count": 52,
   "metadata": {},
   "outputs": [
    {
     "data": {
      "image/png": "[encoded data removed]",
      "text/plain": [
       "<matplotlib.figure.Figure at 0x7f279c703470>"
      ]
     },
     "metadata": {},
     "output_type": "display_data"
    }
   ],
   "source": [
    "def report_confusion():\n",
    "    tmp = np.float32( metrics.confusion_matrix(y_test, y_pred)) \n",
    "    for i in range(tmp.shape[0]):\n",
    "        t = tmp[i].sum()\n",
    "        tmp[i] = tmp[i]/t\n",
    "\n",
    "    fig = plt.figure()\n",
    "    ax = fig.add_subplot(111)\n",
    "    cax = ax.matshow(tmp, vmin=0.0, vmax=0.3)\n",
    "    fig.colorbar(cax)\n",
    "    ticks = np.arange(0,n_classes,1)\n",
    "    ax.set_xticks(ticks)\n",
    "    ax.set_yticks(ticks)\n",
    "    ax.set_xticklabels(class_name, rotation=90)\n",
    "    ax.set_yticklabels(class_name)\n",
    "    plt.show()\n",
    "    \n",
    "report_confusion()"
   ]
  },
  {
   "cell_type": "markdown",
   "metadata": {},
   "source": [
    "## Handling imbalanced data - class weights\n",
    "\n",
    "By adding weights to less common classes we can trade errors, which otherwise concentrate on majority classes."
   ]
  },
  {
   "cell_type": "code",
   "execution_count": 53,
   "metadata": {},
   "outputs": [
    {
     "data": {
      "image/png": "[encoded data removed]",
      "text/plain": [
       "<matplotlib.figure.Figure at 0x7f279c69c9b0>"
      ]
     },
     "metadata": {},
     "output_type": "display_data"
    },
    {
     "name": "stdout",
     "output_type": "stream",
     "text": [
      "F1-score (micro-averaged)=0.7584010726556609\n",
      "F1-score (macro-averaged)=0.6743241016799805\n"
     ]
    }
   ],
   "source": [
    "sess.run(tf.global_variables_initializer())\n",
    "\n",
    "# modify the weights\n",
    "tmp = np.array( pnd.crosstab(y_train,1))\n",
    "tmp = np.ones(n_classes).reshape(-1,1) + 1*(tmp < np.mean(tmp))\n",
    "sess.run(w_class.assign( tmp.reshape(-1,1)))\n",
    "\n",
    "loss_history = train(n_epochs=200, rate=1)\n",
    "plot_training(n_epochs=200)\n",
    "\n",
    "y_pred = np.concatenate( preds() )\n",
    "print('F1-score (micro-averaged)={0}'.format( metrics.f1_score(y_test,y_pred,average='micro')))\n",
    "print('F1-score (macro-averaged)={0}'.format( metrics.f1_score(y_test,y_pred,average='macro')))"
   ]
  },
  {
   "cell_type": "code",
   "execution_count": 54,
   "metadata": {},
   "outputs": [
    {
     "data": {
      "image/png": "[encoded data removed]",
      "text/plain": [
       "<matplotlib.figure.Figure at 0x7f27dd9d0048>"
      ]
     },
     "metadata": {},
     "output_type": "display_data"
    }
   ],
   "source": [
    "report_confusion()"
   ]
  },
  {
   "cell_type": "code",
   "execution_count": 39,
   "metadata": {
    "collapsed": true
   },
   "outputs": [],
   "source": [
    "sess.close()"
   ]
  },
  {
   "cell_type": "code",
   "execution_count": null,
   "metadata": {
    "collapsed": true
   },
   "outputs": [],
   "source": []
  }
 ],
 "metadata": {
  "kernelspec": {
   "display_name": "Python 3",
   "language": "python",
   "name": "python3"
  },
  "language_info": {
   "codemirror_mode": {
    "name": "ipython",
    "version": 3
   },
   "file_extension": ".py",
   "mimetype": "text/x-python",
   "name": "python",
   "nbconvert_exporter": "python",
   "pygments_lexer": "ipython3",
   "version": "3.5.2"
  }
 },
 "nbformat": 4,
 "nbformat_minor": 2
}
